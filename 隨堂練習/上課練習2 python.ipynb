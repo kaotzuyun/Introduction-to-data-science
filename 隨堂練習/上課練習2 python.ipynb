{
 "cells": [
  {
   "cell_type": "code",
   "execution_count": 1,
   "metadata": {},
   "outputs": [
    {
     "name": "stdout",
     "output_type": "stream",
     "text": [
      "天氣是下雨，去健⾝房\n"
     ]
    }
   ],
   "source": [
    "import random\n",
    "weathers = [\"晴天\", \"下雨\"]\n",
    "weather = weathers[random.randint(0, 1)]\n",
    "if weather == \"晴天\":\n",
    "    print (\"天氣是%s，去⼾外跑步\" % weather)\n",
    "else:\n",
    "    print (\"天氣是%s，去健⾝房\" % weather)"
   ]
  },
  {
   "cell_type": "code",
   "execution_count": 3,
   "metadata": {},
   "outputs": [
    {
     "name": "stdout",
     "output_type": "stream",
     "text": [
      "天氣是晴天，去⼾外跑步\n"
     ]
    }
   ],
   "source": [
    "import random\n",
    "weathers = [\"晴天\", \"下雨\", \"暴風雨\"]\n",
    "weather = weathers[random.randint(0, 2)]\n",
    "if weather == \"晴天\":\n",
    "    print (\"天氣是%s，去⼾外跑步\" % weather)\n",
    "elif weather == \"下雨\":\n",
    "    print (\"天氣是%s，去健⾝房\" % weather)\n",
    "else:\n",
    "    print (\"天氣是%s，睡回籠覺\" % weather)"
   ]
  },
  {
   "cell_type": "code",
   "execution_count": 5,
   "metadata": {},
   "outputs": [
    {
     "name": "stdout",
     "output_type": "stream",
     "text": [
      "Jennifer Aniston\n",
      "Courteney Cox\n",
      "Lisa Kudrow\n",
      "Matt LeBlanc\n",
      "Matthew Perry\n",
      "David Schwimmer\n"
     ]
    }
   ],
   "source": [
    "starrings = [\"Jennifer Aniston\", \"Courteney Cox\", \"Lisa Kudrow\", \"Matt LeBlanc\", \"Matthew Perry\", \"David Schwimmer\"]\n",
    "print (starrings[0])\n",
    "print (starrings[1])\n",
    "print (starrings[2])\n",
    "print (starrings[3])\n",
    "print (starrings[4])\n",
    "print (starrings[5])"
   ]
  },
  {
   "cell_type": "code",
   "execution_count": 7,
   "metadata": {},
   "outputs": [
    {
     "name": "stdout",
     "output_type": "stream",
     "text": [
      "Jennifer Aniston\n",
      "Courteney Cox\n",
      "Lisa Kudrow\n",
      "Matt LeBlanc\n",
      "Matthew Perry\n",
      "David Schwimmer\n"
     ]
    }
   ],
   "source": [
    "starrings = [\"Jennifer Aniston\", \"Courteney Cox\", \"Lisa Kudrow\", \"Matt LeBlanc\", \"Matthew Perry\", \"David Schwimmer\"]\n",
    "i = 0\n",
    "while i < 6:\n",
    "    print (starrings[i])\n",
    "    i += 1"
   ]
  },
  {
   "cell_type": "code",
   "execution_count": 8,
   "metadata": {},
   "outputs": [
    {
     "name": "stdout",
     "output_type": "stream",
     "text": [
      "Jennifer Aniston\n",
      "Courteney Cox\n",
      "Lisa Kudrow\n",
      "Matt LeBlanc\n",
      "Matthew Perry\n",
      "David Schwimmer\n"
     ]
    }
   ],
   "source": [
    "starrings = [\"Jennifer Aniston\", \"Courteney Cox\", \"Lisa Kudrow\", \"Matt LeBlanc\", \"Matthew Perry\", \"David Schwimmer\"]\n",
    "for i in range(len(starrings)):\n",
    "    print (starrings[i])"
   ]
  },
  {
   "cell_type": "code",
   "execution_count": 10,
   "metadata": {},
   "outputs": [
    {
     "name": "stdout",
     "output_type": "stream",
     "text": [
      "Jennifer Aniston\n",
      "Courteney Cox\n",
      "Lisa Kudrow\n",
      "Matt LeBlanc\n",
      "Matthew Perry\n",
      "David Schwimmer\n"
     ]
    }
   ],
   "source": [
    "starrings = [\"Jennifer Aniston\", \"Courteney Cox\", \"Lisa Kudrow\", \"Matt LeBlanc\", \"Matthew Perry\", \"David Schwimmer\"]\n",
    "for (index, starring) in enumerate(starrings):\n",
    "    print (starring)"
   ]
  },
  {
   "cell_type": "code",
   "execution_count": 11,
   "metadata": {},
   "outputs": [
    {
     "name": "stdout",
     "output_type": "stream",
     "text": [
      "Rachel Green 由 Jennifer Aniston 主演\n",
      "Monica Geller 由 Courteney Cox 主演\n",
      "Phoebe Buffay 由 Lisa Kudrow 主演\n",
      "Joey Tribbiani 由 Matt LeBlanc 主演\n",
      "Chandler Bing 由 Matthew Perry 主演\n",
      "Ross Geller 由 David Schwimmer 主演\n"
     ]
    }
   ],
   "source": [
    "characters = [\"Rachel Green\", \"Monica Geller\", \"Phoebe Buffay\", \"Joey Tribbiani\", \"Chandler Bing\", \"Ross Geller\"]\n",
    "starrings = [\"Jennifer Aniston\", \"Courteney Cox\", \"Lisa Kudrow\", \"Matt LeBlanc\", \"Matthew Perry\", \"David Schwimmer\"]\n",
    "for (character, star) in zip(characters, starrings):\n",
    "    print (character + \" 由 \" + star + \" 主演\")"
   ]
  },
  {
   "cell_type": "code",
   "execution_count": 12,
   "metadata": {},
   "outputs": [
    {
     "name": "stdout",
     "output_type": "stream",
     "text": [
      "Jennifer Aniston\n",
      "Courteney Cox\n",
      "Lisa Kudrow\n",
      "Matt LeBlanc\n",
      "Matthew Perry\n",
      "David Schwimmer\n"
     ]
    }
   ],
   "source": [
    "starrings = [\"Jennifer Aniston\", \"Courteney Cox\", \"Lisa Kudrow\", \"Matt LeBlanc\", \"Matthew Perry\", \"David Schwimmer\"]\n",
    "for starring in starrings:\n",
    "    print (starring)"
   ]
  },
  {
   "cell_type": "code",
   "execution_count": 13,
   "metadata": {},
   "outputs": [
    {
     "name": "stdout",
     "output_type": "stream",
     "text": [
      "Rachel Green\n",
      "Monica Geller\n",
      "Phoebe Buffay\n",
      "Joey Tribbiani\n",
      "Chandler Bing\n",
      "Ross Geller\n"
     ]
    }
   ],
   "source": [
    "starrings = {\n",
    " \"Rachel Green\": \"Jennifer Aniston\",\n",
    " \"Monica Geller\": \"Courteney Cox\",\n",
    " \"Phoebe Buffay\": \"Lisa Kudrow\",\n",
    " \"Joey Tribbiani\": \"Matt LeBlanc\",\n",
    " \"Chandler Bing\": \"Matthew Perry\",\n",
    " \"Ross Geller\": \"David Schwimmer\"\n",
    "}\n",
    "for starring in starrings:\n",
    "     print (starring)"
   ]
  },
  {
   "cell_type": "code",
   "execution_count": 14,
   "metadata": {},
   "outputs": [
    {
     "name": "stdout",
     "output_type": "stream",
     "text": [
      "Rachel Green\n",
      "Monica Geller\n",
      "Phoebe Buffay\n",
      "Joey Tribbiani\n",
      "Chandler Bing\n",
      "Ross Geller\n",
      "---\n",
      "Jennifer Aniston\n",
      "Courteney Cox\n",
      "Lisa Kudrow\n",
      "Matt LeBlanc\n",
      "Matthew Perry\n",
      "David Schwimmer\n"
     ]
    }
   ],
   "source": [
    "starrings = {\n",
    " \"Rachel Green\": \"Jennifer Aniston\",\n",
    " \"Monica Geller\": \"Courteney Cox\",\n",
    " \"Phoebe Buffay\": \"Lisa Kudrow\",\n",
    " \"Joey Tribbiani\": \"Matt LeBlanc\",\n",
    " \"Chandler Bing\": \"Matthew Perry\",\n",
    " \"Ross Geller\": \"David Schwimmer\"\n",
    "}\n",
    "for starring in starrings.keys():\n",
    "    print (starring)\n",
    "print(\"---\")\n",
    "for starring in starrings.values():\n",
    "    print (starring)"
   ]
  },
  {
   "cell_type": "code",
   "execution_count": 16,
   "metadata": {},
   "outputs": [
    {
     "name": "stdout",
     "output_type": "stream",
     "text": [
      " Rachel Green由 Jennifer Aniston演出\n",
      " Monica Geller由 Courteney Cox演出\n",
      " Phoebe Buffay由 Lisa Kudrow演出\n",
      " Joey Tribbiani由 Matt LeBlanc演出\n",
      " Chandler Bing由 Matthew Perry演出\n",
      " Ross Geller由 David Schwimmer演出\n"
     ]
    }
   ],
   "source": [
    "starrings = {\n",
    " \"Rachel Green\": \"Jennifer Aniston\",\n",
    " \"Monica Geller\": \"Courteney Cox\",\n",
    " \"Phoebe Buffay\": \"Lisa Kudrow\",\n",
    " \"Joey Tribbiani\": \"Matt LeBlanc\",\n",
    " \"Chandler Bing\": \"Matthew Perry\",\n",
    " \"Ross Geller\": \"David Schwimmer\"\n",
    "}\n",
    "for (key, value) in starrings.items():\n",
    "    print (\" %s由 %s演出\" %(key, value))"
   ]
  },
  {
   "cell_type": "code",
   "execution_count": 17,
   "metadata": {},
   "outputs": [
    {
     "name": "stdout",
     "output_type": "stream",
     "text": [
      "Rachel Green 由 Jennifer Aniston 主演\n",
      "Monica Geller 由 Courteney Cox 主演\n",
      "Phoebe Buffay 由 Lisa Kudrow 主演\n",
      "Joey Tribbiani 由 Matt LeBlanc 主演\n",
      "Chandler Bing 由 Matthew Perry 主演\n",
      "Ross Geller 由 David Schwimmer 主演\n"
     ]
    }
   ],
   "source": [
    "starrings = [\n",
    " (\"Rachel Green\", \"Jennifer Aniston\"),\n",
    " (\"Monica Geller\", \"Courteney Cox\"),\n",
    " (\"Phoebe Buffay\", \"Lisa Kudrow\"),\n",
    " (\"Joey Tribbiani\", \"Matt LeBlanc\"),\n",
    " (\"Chandler Bing\", \"Matthew Perry\"),\n",
    " (\"Ross Geller\", \"David Schwimmer\")\n",
    "]\n",
    "for (character, star) in starrings:\n",
    "    print (character + \" 由 \" + star + \" 主演\")"
   ]
  },
  {
   "cell_type": "code",
   "execution_count": 22,
   "metadata": {},
   "outputs": [
    {
     "name": "stdout",
     "output_type": "stream",
     "text": [
      "['Head', 'Tail', 'Tail', 'Tail', 'Head', 'Head']\n",
      "6\n"
     ]
    }
   ],
   "source": [
    "#兩種迴圈的運⽤時機\n",
    "import random\n",
    "coin_flips = [] # 建立⼀個空的清單放置每⼀次投擲的結果\n",
    "coin = [\"Head\", \"Tail\"]\n",
    "while coin_flips.count(\"Head\") < 3:\n",
    "    coin_flips.append(coin[random.randint(0, 1)])\n",
    "print (coin_flips) # 印出每次投擲的紀錄\n",
    "print (len(coin_flips)) # 總共投擲了幾次"
   ]
  },
  {
   "cell_type": "code",
   "execution_count": 24,
   "metadata": {},
   "outputs": [
    {
     "name": "stdout",
     "output_type": "stream",
     "text": [
      "1 2 3 4 1 2 3 4 6 7 8 9 "
     ]
    }
   ],
   "source": [
    "for x in range(1,10):\n",
    "    \n",
    "    if x==5:\n",
    "        break\n",
    "    print(x, end=\" \")\n",
    "\n",
    "for x in range(1,10):\n",
    "    if x==5:\n",
    "        continue\n",
    "    print(x, end=\" \")"
   ]
  },
  {
   "cell_type": "code",
   "execution_count": 25,
   "metadata": {},
   "outputs": [
    {
     "name": "stdout",
     "output_type": "stream",
     "text": [
      "Jennifer Aniston\n",
      "Courteney Cox\n",
      "Lisa Kudrow\n"
     ]
    }
   ],
   "source": [
    "starrings = [\"Jennifer Aniston\", \"Courteney Cox\", \"Lisa Kudrow\", \"Matt LeBlanc\", \"Matthew Perry\", \"David Schwimmer\"]\n",
    "\n",
    "for starring in starrings:\n",
    "    if starring == \"Matt LeBlanc\":\n",
    "        break\n",
    "    print (starring)"
   ]
  },
  {
   "cell_type": "code",
   "execution_count": 26,
   "metadata": {},
   "outputs": [
    {
     "name": "stdout",
     "output_type": "stream",
     "text": [
      "Jennifer Aniston\n",
      "Courteney Cox\n",
      "Lisa Kudrow\n",
      "Matthew Perry\n",
      "David Schwimmer\n"
     ]
    }
   ],
   "source": [
    "starrings = [\"Jennifer Aniston\", \"Courteney Cox\", \"Lisa Kudrow\", \"Matt LeBlanc\", \"Matthew Perry\", \"David Schwimmer\"]\n",
    "\n",
    "for starring in starrings:\n",
    "    if starring == \"Matt LeBlanc\":\n",
    "        continue\n",
    "    print (starring)\n"
   ]
  },
  {
   "cell_type": "code",
   "execution_count": 30,
   "metadata": {},
   "outputs": [
    {
     "name": "stdout",
     "output_type": "stream",
     "text": [
      "Help on function my_squared in module __main__:\n",
      "\n",
      "my_squared(x)\n",
      "    將輸入的數字平⽅之後回傳\n",
      "\n"
     ]
    }
   ],
   "source": [
    "def my_squared(x):\n",
    "    '將輸入的數字平⽅之後回傳'\n",
    "    return x ** 2\n",
    "\n",
    "\n",
    "help(my_squared) # 查詢 my_squared() 函數"
   ]
  },
  {
   "cell_type": "code",
   "execution_count": 41,
   "metadata": {},
   "outputs": [],
   "source": [
    "def func(a,b,c):\n",
    "    x = a + b + c\n",
    "    return x\n",
    "    print(func(1,2,3)) \n",
    "    print(func(c=3,b=2,a=1))\n",
    "    print(1,2,3)\n",
    "    print(a=1,b=2,c=3)"
   ]
  },
  {
   "cell_type": "code",
   "execution_count": 43,
   "metadata": {},
   "outputs": [
    {
     "name": "stdout",
     "output_type": "stream",
     "text": [
      "Over\n",
      "<class 'str'>\n",
      "30\n",
      "200\n"
     ]
    }
   ],
   "source": [
    "def func(x):\n",
    "    if x < 10:\n",
    "        return x\n",
    "    else:\n",
    "        return \"Over\"\n",
    "\n",
    "a = func(15)\n",
    "\n",
    "print(a)\n",
    "print(type(a))\n",
    "def func(a,b):\n",
    "    n = a+b\n",
    "    x = a*b\n",
    "    return n, x\n",
    "num1, num2 = func(10,20)\n",
    "print(num1)\n",
    "print(num2)"
   ]
  },
  {
   "cell_type": "code",
   "execution_count": 46,
   "metadata": {},
   "outputs": [
    {
     "name": "stdout",
     "output_type": "stream",
     "text": [
      "28.274333882308138\n"
     ]
    }
   ],
   "source": [
    "import math # 要使⽤圓周率 pi 得引入套件 math\n",
    "\n",
    "def circle_area(r):\n",
    " '輸入半徑長度可以計算出圓⾯積'\n",
    " return math.pi * r ** 2\n",
    "print (circle_area(3))"
   ]
  },
  {
   "cell_type": "code",
   "execution_count": 50,
   "metadata": {},
   "outputs": [
    {
     "name": "stdout",
     "output_type": "stream",
     "text": [
      "18.84955592153876\n"
     ]
    }
   ],
   "source": [
    "import math # 要使⽤圓周率 pi 得引入套件 math\n",
    "def circle_circum(r):\n",
    " '輸入半徑長度可以計算出圓周長'\n",
    " return 2 * math.pi * r\n",
    "print (circle_circum(3))"
   ]
  },
  {
   "cell_type": "code",
   "execution_count": 52,
   "metadata": {
    "scrolled": true
   },
   "outputs": [
    {
     "name": "stdout",
     "output_type": "stream",
     "text": [
      "28.274333882308138\n",
      "18.84955592153876\n"
     ]
    }
   ],
   "source": [
    "import math # 要使⽤圓周率 pi 得引入套件 math\n",
    "def circle_calculator(r, is_area = True):\n",
    " '''\n",
    " 輸入半徑長度可以計算出圓⾯積與圓周長\n",
    " 利⽤參數 is_area 決定要回傳圓⾯積或圓周長\n",
    " 預設回傳圓⾯積\n",
    " '''\n",
    " if is_area == True:\n",
    "    return math.pi * r ** 2\n",
    " else:\n",
    "    return 2 * math.pi * r\n",
    "print (circle_calculator(3))\n",
    "print (circle_calculator(3, is_area = False))"
   ]
  }
 ],
 "metadata": {
  "kernelspec": {
   "display_name": "Python 3",
   "language": "python",
   "name": "python3"
  },
  "language_info": {
   "codemirror_mode": {
    "name": "ipython",
    "version": 3
   },
   "file_extension": ".py",
   "mimetype": "text/x-python",
   "name": "python",
   "nbconvert_exporter": "python",
   "pygments_lexer": "ipython3",
   "version": "3.6.5"
  }
 },
 "nbformat": 4,
 "nbformat_minor": 2
}
