{
 "cells": [
  {
   "cell_type": "code",
   "execution_count": 14,
   "metadata": {},
   "outputs": [
    {
     "data": {
      "text/plain": [
       "10"
      ]
     },
     "execution_count": 14,
     "metadata": {},
     "output_type": "execute_result"
    }
   ],
   "source": [
    "def my_len(x):\n",
    "\n",
    "    '計算輸入 list 中有幾個元素' \n",
    "    \n",
    "    cnt = 0\n",
    "    \n",
    "    for i in x:\n",
    "        \n",
    "        cnt += 1\n",
    "    \n",
    "    return cnt\n",
    "num_list = range(1, 11)\n",
    "\n",
    "my_len(num_list) # 計算 num_list 中有幾個數字"
   ]
  },
  {
   "cell_type": "code",
   "execution_count": 15,
   "metadata": {},
   "outputs": [
    {
     "data": {
      "text/plain": [
       "55"
      ]
     },
     "execution_count": 15,
     "metadata": {},
     "output_type": "execute_result"
    }
   ],
   "source": [
    "def my_sum(x):\n",
    "    '計算輸入 list 中的數字加總'\n",
    "    summation = 0\n",
    "    for i in x:\n",
    "        summation += i\n",
    "    return summation\n",
    "\n",
    "num_list = range(1, 11)\n",
    "\n",
    "my_sum(num_list) # 計算 num_list 中數字的加總"
   ]
  },
  {
   "cell_type": "code",
   "execution_count": 16,
   "metadata": {},
   "outputs": [
    {
     "data": {
      "text/plain": [
       "5.5"
      ]
     },
     "execution_count": 16,
     "metadata": {},
     "output_type": "execute_result"
    }
   ],
   "source": [
    "def my_mean(x):\n",
    "    '計算輸入 list 中的數字平均數'\n",
    "    cnt = 0\n",
    "    summation = 0.0\n",
    "    for i in x:\n",
    "        cnt += 1\n",
    "        summation += i\n",
    "    return (summation / cnt)\n",
    "num_list = range(1, 11)\n",
    "my_mean(num_list) # 計算 num_list 中數字的平均數"
   ]
  }
 ],
 "metadata": {
  "kernelspec": {
   "display_name": "Python 3",
   "language": "python",
   "name": "python3"
  },
  "language_info": {
   "codemirror_mode": {
    "name": "ipython",
    "version": 3
   },
   "file_extension": ".py",
   "mimetype": "text/x-python",
   "name": "python",
   "nbconvert_exporter": "python",
   "pygments_lexer": "ipython3",
   "version": "3.6.5"
  }
 },
 "nbformat": 4,
 "nbformat_minor": 2
}
