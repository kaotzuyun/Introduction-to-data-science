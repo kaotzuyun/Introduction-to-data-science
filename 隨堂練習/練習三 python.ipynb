{
 "cells": [
  {
   "cell_type": "code",
   "execution_count": 3,
   "metadata": {},
   "outputs": [
    {
     "name": "stdout",
     "output_type": "stream",
     "text": [
      "['2', '3', '2', '3', '5', '4', '4', '3', '5', '2', '5', '2', '6', '3', '2', '5', '2', '6', '2', '2', '4', '3', '1', '1', '4', '1', '3', '5', '6']\n",
      "29\n"
     ]
    }
   ],
   "source": [
    "import random\n",
    "dice_point = [] # 建立⼀個空的清單放置每⼀次投擲的結果\n",
    "dice = [\"1\", \"2\",\"3\",\"4\",\"5\",\"6\"]\n",
    "while dice_point.count(\"6\") < 3:\n",
    "      dice_point.append(dice[random.randint(0, 5)])\n",
    "print (dice_point) # 印出每次投擲的紀錄\n",
    "print (len(dice_point)) # 總共投擲了幾次"
   ]
  },
  {
   "cell_type": "code",
   "execution_count": 4,
   "metadata": {},
   "outputs": [
    {
     "name": "stdout",
     "output_type": "stream",
     "text": [
      "1\n",
      "2\n",
      "15的倍數\n",
      "4\n",
      "5的倍數\n",
      "15的倍數\n",
      "7\n",
      "8\n",
      "15的倍數\n",
      "5的倍數\n",
      "11\n",
      "15的倍數\n",
      "13\n",
      "14\n",
      "3的倍數\n",
      "16\n",
      "17\n",
      "15的倍數\n",
      "19\n",
      "5的倍數\n",
      "15的倍數\n",
      "22\n",
      "23\n",
      "15的倍數\n",
      "5的倍數\n",
      "26\n",
      "15的倍數\n",
      "28\n",
      "29\n",
      "3的倍數\n",
      "31\n",
      "32\n",
      "15的倍數\n",
      "34\n",
      "5的倍數\n",
      "15的倍數\n",
      "37\n",
      "38\n",
      "15的倍數\n",
      "5的倍數\n",
      "41\n",
      "15的倍數\n",
      "43\n",
      "44\n",
      "3的倍數\n",
      "46\n",
      "47\n",
      "15的倍數\n",
      "49\n",
      "5的倍數\n",
      "15的倍數\n",
      "52\n",
      "53\n",
      "15的倍數\n",
      "5的倍數\n",
      "56\n",
      "15的倍數\n",
      "58\n",
      "59\n",
      "3的倍數\n",
      "61\n",
      "62\n",
      "15的倍數\n",
      "64\n",
      "5的倍數\n",
      "15的倍數\n",
      "67\n",
      "68\n",
      "15的倍數\n",
      "5的倍數\n",
      "71\n",
      "15的倍數\n",
      "73\n",
      "74\n",
      "3的倍數\n",
      "76\n",
      "77\n",
      "15的倍數\n",
      "79\n",
      "5的倍數\n",
      "15的倍數\n",
      "82\n",
      "83\n",
      "15的倍數\n",
      "5的倍數\n",
      "86\n",
      "15的倍數\n",
      "88\n",
      "89\n",
      "3的倍數\n",
      "91\n",
      "92\n",
      "15的倍數\n",
      "94\n",
      "5的倍數\n",
      "15的倍數\n",
      "97\n",
      "98\n",
      "15的倍數\n"
     ]
    }
   ],
   "source": [
    "for num in range(1,100):\n",
    "    if not num%3 and num%5:\n",
    "        print(\"15的倍數\")\n",
    "    elif not num%3:\n",
    "        print(\"3的倍數\")\n",
    "    elif not num%5:\n",
    "        print(\"5的倍數\")\n",
    "    else:\n",
    "        print(num)"
   ]
  },
  {
   "cell_type": "code",
   "execution_count": null,
   "metadata": {},
   "outputs": [],
   "source": []
  }
 ],
 "metadata": {
  "kernelspec": {
   "display_name": "Python 3",
   "language": "python",
   "name": "python3"
  },
  "language_info": {
   "codemirror_mode": {
    "name": "ipython",
    "version": 3
   },
   "file_extension": ".py",
   "mimetype": "text/x-python",
   "name": "python",
   "nbconvert_exporter": "python",
   "pygments_lexer": "ipython3",
   "version": "3.6.5"
  }
 },
 "nbformat": 4,
 "nbformat_minor": 2
}
