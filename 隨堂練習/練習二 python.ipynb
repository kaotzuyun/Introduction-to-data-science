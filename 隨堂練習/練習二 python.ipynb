{
 "cells": [
  {
   "cell_type": "code",
   "execution_count": 3,
   "metadata": {},
   "outputs": [
    {
     "name": "stdout",
     "output_type": "stream",
     "text": [
      "10\n",
      "Matt LeBlanc\n"
     ]
    }
   ],
   "source": [
    "genre = \"SitCom\"\n",
    "seasons = 10\n",
    "episodes = 236\n",
    "stars = [\"Jennifer Aniston\", \"Courteney Cox\", \"Lisa Kudrow\",\n",
    "\"Matt LeBlanc\", \"Matthew Perry\", \"David Schwimmer\"]\n",
    "friends_list = [genre,seasons,episodes,\"Matt LeBlanc\"]\n",
    "print(friends_list[1])\n",
    "print(friends_list[3])"
   ]
  },
  {
   "cell_type": "code",
   "execution_count": 17,
   "metadata": {
    "scrolled": true
   },
   "outputs": [
    {
     "name": "stdout",
     "output_type": "stream",
     "text": [
      "['Rachseasonsel Green', 'Monica Geller', 'Phoebe Buffay']\n"
     ]
    }
   ],
   "source": [
    "characters = [\"Rachseasonsel Green\", \"Monica Geller\", \"Phoebe Buffay\", \"Matt LeBlanc\", \"Matthew Perry\", \"David Schwimmer\"]\n",
    "print(characters[:3])"
   ]
  },
  {
   "cell_type": "code",
   "execution_count": 27,
   "metadata": {},
   "outputs": [
    {
     "name": "stdout",
     "output_type": "stream",
     "text": [
      "{'red', 'green', 'blue'}\n"
     ]
    }
   ],
   "source": [
    "rgb_col_list = [\"red\", \"green\", \"blue\", \"green\", \"red\", \"blue\", \"green\", \"green\", \"red\", \"blue\"]\n",
    "rgb_col_set= set (rgb_col_list)\n",
    "print (rgb_col_set)"
   ]
  },
  {
   "cell_type": "code",
   "execution_count": 25,
   "metadata": {},
   "outputs": [
    {
     "name": "stdout",
     "output_type": "stream",
     "text": [
      "Matthew Perry\n"
     ]
    }
   ],
   "source": [
    "friends_dict = {\n",
    " \"genre\": \"sitcom\",\n",
    " \"seasons\": 10,\n",
    " \"episodes\": 236,\n",
    " \"starrings\": [\"Jennifer Aniston\", \"Courteney Cox\", \"Lisa Kudrow\", \"Matt LeBlanc\", \"Matthew Perry\", \"David Schwimmer\"]\n",
    "}\n",
    "print (friends_dict[\"starrings\"][-2])"
   ]
  }
 ],
 "metadata": {
  "kernelspec": {
   "display_name": "Python 3",
   "language": "python",
   "name": "python3"
  },
  "language_info": {
   "codemirror_mode": {
    "name": "ipython",
    "version": 3
   },
   "file_extension": ".py",
   "mimetype": "text/x-python",
   "name": "python",
   "nbconvert_exporter": "python",
   "pygments_lexer": "ipython3",
   "version": "3.6.5"
  }
 },
 "nbformat": 4,
 "nbformat_minor": 2
}
